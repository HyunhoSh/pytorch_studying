{
  "nbformat": 4,
  "nbformat_minor": 0,
  "metadata": {
    "colab": {
      "name": "PyTorch_basic.ipynb",
      "private_outputs": true,
      "provenance": [],
      "collapsed_sections": []
    },
    "kernelspec": {
      "name": "python3",
      "display_name": "Python 3"
    },
    "language_info": {
      "name": "python"
    }
  },
  "cells": [
    {
      "cell_type": "markdown",
      "source": [
        "# Pytorch_basic"
      ],
      "metadata": {
        "id": "_w7L5OU4hfws"
      }
    },
    {
      "cell_type": "code",
      "execution_count": null,
      "metadata": {
        "id": "BFn_qdn_K58O"
      },
      "outputs": [],
      "source": [
        "# numpy로 텐서 만들기\n",
        "import numpy as np\n",
        "\n",
        "# 1D with Numpy\n",
        "t = np.array([0.,1.,2.,3.,4.,5.,6.])\n",
        "\n",
        "print(t)"
      ]
    },
    {
      "cell_type": "code",
      "source": [
        "print('Rank of t: ',t.ndim) # 차원\n",
        "print('Shape of t: ',t.shape) # 크기\n",
        "\n",
        "# (7,)은 (1,7)을 의미함 -> 1x7의 크기를 가지는 벡터"
      ],
      "metadata": {
        "id": "MZsPCaVbL0cf"
      },
      "execution_count": null,
      "outputs": []
    },
    {
      "cell_type": "code",
      "source": [
        "import torch\n",
        "m1 = torch.FloatTensor([[1,2],[3,4]])\n",
        "m2 = torch.FloatTensor([[1], [2]])\n",
        "print('Shape of Matrix 1: ', m1.shape) # 2 x 2\n",
        "print('Shape of Matrix 2: ', m2.shape) # 2 x 1\n",
        "print(m1 * m2) # 2 x 2\n",
        "print(m1.mul(m2)) # mul도 곱셈을 수행하는 메소드"
      ],
      "metadata": {
        "id": "XfSvjDS1L_GR"
      },
      "execution_count": null,
      "outputs": []
    },
    {
      "cell_type": "markdown",
      "source": [
        "## Tensor manipulation"
      ],
      "metadata": {
        "id": "Qljj80BmhiU0"
      }
    },
    {
      "cell_type": "markdown",
      "source": [
        "### view(),squeeze(), unsqueeze()는 텐서의 원소 수를 그대로 유지하면서 모양과 차원을 조절함"
      ],
      "metadata": {
        "id": "YWFlMCxgkdYr"
      }
    },
    {
      "cell_type": "code",
      "source": [
        "# view -> 원소의 수를 유지하면서 텐서의 크기 변경\n",
        "\n",
        "t = np.array([[[0, 1, 2],\n",
        "               [3, 4, 5]],\n",
        "              [[6, 7, 8],\n",
        "               [9, 10, 11]]])\n",
        "ft = torch.FloatTensor(t)\n",
        "print(ft.shape)"
      ],
      "metadata": {
        "id": "3sGkSwWBhKCE"
      },
      "execution_count": null,
      "outputs": []
    },
    {
      "cell_type": "code",
      "source": [
        "# 3차원 텐서에서 2차원 텐서로 변경\n",
        "\n",
        "# view([-1,3]) -> -1의 의미는 첫번째 차원의 경우는 파이토치에게 만ㅌ기는 것이고, 두번째 차원\n",
        "# 의 길이는 3을 가지도록한다. (2,2,3) -> (2x2,3) -> (4,3)\n",
        "\n",
        "# view는 기본적으로 변경 전과 변경 후의 텐서 안의 원소의 개수가 유지되어야한다.\n",
        "# 파이토치의 view는 사이즈가 -1로 설정되면 다른 차원으로부터 해당 값을 유지한다.\n",
        "print(ft.view([-1,3]))\n",
        "print(ft.view([-1,3]).shape)"
      ],
      "metadata": {
        "id": "fnkJx2FDhqis"
      },
      "execution_count": null,
      "outputs": []
    },
    {
      "cell_type": "code",
      "source": [
        "# 3차원 텐서에서 3차원 텐서로 차원은 유지하되 크기만 바꾸기\n",
        "\n",
        "# (2x2x3) -> (4x1x3)\n",
        "\n",
        "print(ft.view([-1,1,3])) # -1을 사용함으로써 ?x1x3의 형태, ?은 당연히 4가 되어 4x1x3 형태됨\n",
        "print(ft.view([-1,1,3]).shape)"
      ],
      "metadata": {
        "id": "U9LGGDQYh8xI"
      },
      "execution_count": null,
      "outputs": []
    },
    {
      "cell_type": "code",
      "source": [
        "# Squeeze - 차원이 1인 경우에 해당 차원 제거\n",
        "\n",
        "ft = torch.FloatTensor([[0],[1],[2]])\n",
        "print(ft)\n",
        "print(ft.shape)"
      ],
      "metadata": {
        "id": "0pitZtSxi3kD"
      },
      "execution_count": null,
      "outputs": []
    },
    {
      "cell_type": "code",
      "source": [
        "print(ft.squeeze())\n",
        "print(ft.squeeze().shape)"
      ],
      "metadata": {
        "id": "IEDvyc5GjKg5"
      },
      "execution_count": null,
      "outputs": []
    },
    {
      "cell_type": "code",
      "source": [
        "# Unsqueeze - 특정 위치에 1인 차원 추가\n",
        "ft = torch.Tensor([0,1,2])\n",
        "print(ft.shape)"
      ],
      "metadata": {
        "id": "KBFGcdhwjbqK"
      },
      "execution_count": null,
      "outputs": []
    },
    {
      "cell_type": "code",
      "source": [
        "print(ft.unsqueeze(0)) # 인덱스가 0부터 시작하므로 0은 첫번째 차원을 의미함\n",
        "print(ft.unsqueeze(0).shape)"
      ],
      "metadata": {
        "id": "eY1xUGpJjlw-"
      },
      "execution_count": null,
      "outputs": []
    },
    {
      "cell_type": "code",
      "source": [
        "# 텐서 연결\n",
        "# 두 텐서를 연결해서 입력으로 사용하는 것은 두 가지 정보를 모두 사용한다는 뜻\n",
        "x = torch.FloatTensor([[1,2],[3,4]])\n",
        "y = torch.FloatTensor([[5,6],[7,8]])\n",
        "\n",
        "print(torch.cat([x,y],dim=0))"
      ],
      "metadata": {
        "id": "rjLs5gj_kYkZ"
      },
      "execution_count": null,
      "outputs": []
    },
    {
      "cell_type": "code",
      "source": [
        "# dim을 0으로 하면 (2x2) 텐서가 (4x2)가 된다.\n",
        "# dim을 1로 하면 (2x2) 텐서가 두 개 함쳐져서 (2x4)가 된다.\n",
        "print(torch.cat([x,y],dim=1))"
      ],
      "metadata": {
        "id": "g94vlsZ2k9AF"
      },
      "execution_count": null,
      "outputs": []
    },
    {
      "cell_type": "code",
      "source": [
        "# 스택킹 -> 벡터를 순차적으로 쌓기\n",
        "x = torch.FloatTensor([1,4])\n",
        "y = torch.FloatTensor([2,5])\n",
        "z = torch.FloatTensor([3,6])\n",
        "\n",
        "print(torch.stack([x,y,z]))"
      ],
      "metadata": {
        "id": "T0N0wn3MlNCo"
      },
      "execution_count": null,
      "outputs": []
    },
    {
      "cell_type": "code",
      "source": [
        "# ones_like -> 동일한 크기지만 1로만 채워진 텐서 생성\n",
        "# zeros_like -> 동일한 크기지만 0으로만 채워진 텐서 생성\n",
        "x = torch.FloatTensor([[0, 1, 2], [2, 1, 0]])\n",
        "\n",
        "print(torch.ones_like(x))\n",
        "print(torch.zeros_like(x))"
      ],
      "metadata": {
        "id": "vkTBLCfSlmCj"
      },
      "execution_count": null,
      "outputs": []
    },
    {
      "cell_type": "code",
      "source": [
        "# 덮어쓰기 연산 -> _ 사용\n",
        "\n",
        "x = torch.FloatTensor([[1, 2], [3, 4]])\n",
        "\n",
        "print(x.mul(2.)) # 곱하기 2를 수행한 결과를 출력\n",
        "print(x) \n",
        "\n",
        "print(x.mul_(2.))  # 곱하기 2를 수행한 결과를 변수 x에 값을 저장하면서 결과를 출력\n",
        "print(x) "
      ],
      "metadata": {
        "id": "PeXBMIbKmWjn"
      },
      "execution_count": null,
      "outputs": []
    },
    {
      "cell_type": "code",
      "source": [
        ""
      ],
      "metadata": {
        "id": "p3azVIksmjlq"
      },
      "execution_count": null,
      "outputs": []
    }
  ]
}