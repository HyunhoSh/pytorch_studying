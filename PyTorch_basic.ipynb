{
  "nbformat": 4,
  "nbformat_minor": 0,
  "metadata": {
    "colab": {
      "name": "PyTorch_basic.ipynb",
      "provenance": [],
      "collapsed_sections": []
    },
    "kernelspec": {
      "name": "python3",
      "display_name": "Python 3"
    },
    "language_info": {
      "name": "python"
    },
    "gpuClass": "standard"
  },
  "cells": [
    {
      "cell_type": "markdown",
      "source": [
        "# Pytorch_basic"
      ],
      "metadata": {
        "id": "_w7L5OU4hfws"
      }
    },
    {
      "cell_type": "code",
      "execution_count": 1,
      "metadata": {
        "id": "BFn_qdn_K58O",
        "outputId": "65549f95-ba00-4cbd-b350-36bb9a92468b",
        "colab": {
          "base_uri": "https://localhost:8080/"
        }
      },
      "outputs": [
        {
          "output_type": "stream",
          "name": "stdout",
          "text": [
            "[0. 1. 2. 3. 4. 5. 6.]\n"
          ]
        }
      ],
      "source": [
        "# numpy로 텐서 만들기\n",
        "import numpy as np\n",
        "\n",
        "# 1D with Numpy\n",
        "t = np.array([0.,1.,2.,3.,4.,5.,6.])\n",
        "\n",
        "print(t)"
      ]
    },
    {
      "cell_type": "code",
      "source": [
        "print('Rank of t: ',t.ndim) # 차원\n",
        "print('Shape of t: ',t.shape) # 크기\n",
        "\n",
        "# (7,)은 (1,7)을 의미함 -> 1x7의 크기를 가지는 벡터"
      ],
      "metadata": {
        "id": "MZsPCaVbL0cf",
        "outputId": "45166d07-61a9-4ff0-8dd7-0274d55f25ad",
        "colab": {
          "base_uri": "https://localhost:8080/"
        }
      },
      "execution_count": 2,
      "outputs": [
        {
          "output_type": "stream",
          "name": "stdout",
          "text": [
            "Rank of t:  1\n",
            "Shape of t:  (7,)\n"
          ]
        }
      ]
    },
    {
      "cell_type": "code",
      "source": [
        "import torch\n",
        "m1 = torch.FloatTensor([[1,2],[3,4]])\n",
        "m2 = torch.FloatTensor([[1], [2]])\n",
        "print('Shape of Matrix 1: ', m1.shape) # 2 x 2\n",
        "print('Shape of Matrix 2: ', m2.shape) # 2 x 1\n",
        "print(m1 * m2) # 2 x 2\n",
        "print(m1.mul(m2)) # mul도 곱셈을 수행하는 메소드"
      ],
      "metadata": {
        "id": "XfSvjDS1L_GR",
        "outputId": "7dddce5b-97c6-43cb-e9c3-950b62a16c4f",
        "colab": {
          "base_uri": "https://localhost:8080/"
        }
      },
      "execution_count": 3,
      "outputs": [
        {
          "output_type": "stream",
          "name": "stdout",
          "text": [
            "Shape of Matrix 1:  torch.Size([2, 2])\n",
            "Shape of Matrix 2:  torch.Size([2, 1])\n",
            "tensor([[1., 2.],\n",
            "        [6., 8.]])\n",
            "tensor([[1., 2.],\n",
            "        [6., 8.]])\n"
          ]
        }
      ]
    },
    {
      "cell_type": "markdown",
      "source": [
        "## Tensor manipulation"
      ],
      "metadata": {
        "id": "Qljj80BmhiU0"
      }
    },
    {
      "cell_type": "markdown",
      "source": [
        "### view(),squeeze(), unsqueeze()는 텐서의 원소 수를 그대로 유지하면서 모양과 차원을 조절함"
      ],
      "metadata": {
        "id": "YWFlMCxgkdYr"
      }
    },
    {
      "cell_type": "code",
      "source": [
        "# view -> 원소의 수를 유지하면서 텐서의 크기 변경\n",
        "\n",
        "t = np.array([[[0, 1, 2],\n",
        "               [3, 4, 5]],\n",
        "              [[6, 7, 8],\n",
        "               [9, 10, 11]]])\n",
        "ft = torch.FloatTensor(t)\n",
        "print(ft.shape)"
      ],
      "metadata": {
        "id": "3sGkSwWBhKCE",
        "outputId": "4327b50d-a72d-48b3-ba23-045dc2177c52",
        "colab": {
          "base_uri": "https://localhost:8080/"
        }
      },
      "execution_count": 4,
      "outputs": [
        {
          "output_type": "stream",
          "name": "stdout",
          "text": [
            "torch.Size([2, 2, 3])\n"
          ]
        }
      ]
    },
    {
      "cell_type": "code",
      "source": [
        "# 3차원 텐서에서 2차원 텐서로 변경\n",
        "\n",
        "# view([-1,3]) -> -1의 의미는 첫번째 차원의 경우는 파이토치에게 만ㅌ기는 것이고, 두번째 차원\n",
        "# 의 길이는 3을 가지도록한다. (2,2,3) -> (2x2,3) -> (4,3)\n",
        "\n",
        "# view는 기본적으로 변경 전과 변경 후의 텐서 안의 원소의 개수가 유지되어야한다.\n",
        "# 파이토치의 view는 사이즈가 -1로 설정되면 다른 차원으로부터 해당 값을 유지한다.\n",
        "print(ft.view([-1,3]))\n",
        "print(ft.view([-1,3]).shape)"
      ],
      "metadata": {
        "id": "fnkJx2FDhqis",
        "outputId": "470a572b-1bdc-494c-c89b-0ee83af816d6",
        "colab": {
          "base_uri": "https://localhost:8080/"
        }
      },
      "execution_count": 5,
      "outputs": [
        {
          "output_type": "stream",
          "name": "stdout",
          "text": [
            "tensor([[ 0.,  1.,  2.],\n",
            "        [ 3.,  4.,  5.],\n",
            "        [ 6.,  7.,  8.],\n",
            "        [ 9., 10., 11.]])\n",
            "torch.Size([4, 3])\n"
          ]
        }
      ]
    },
    {
      "cell_type": "code",
      "source": [
        "# 3차원 텐서에서 3차원 텐서로 차원은 유지하되 크기만 바꾸기\n",
        "\n",
        "# (2x2x3) -> (4x1x3)\n",
        "\n",
        "print(ft.view([-1,1,3])) # -1을 사용함으로써 ?x1x3의 형태, ?은 당연히 4가 되어 4x1x3 형태됨\n",
        "print(ft.view([-1,1,3]).shape)"
      ],
      "metadata": {
        "id": "U9LGGDQYh8xI",
        "outputId": "49001868-685e-4363-fde1-0185e1926362",
        "colab": {
          "base_uri": "https://localhost:8080/"
        }
      },
      "execution_count": 6,
      "outputs": [
        {
          "output_type": "stream",
          "name": "stdout",
          "text": [
            "tensor([[[ 0.,  1.,  2.]],\n",
            "\n",
            "        [[ 3.,  4.,  5.]],\n",
            "\n",
            "        [[ 6.,  7.,  8.]],\n",
            "\n",
            "        [[ 9., 10., 11.]]])\n",
            "torch.Size([4, 1, 3])\n"
          ]
        }
      ]
    },
    {
      "cell_type": "code",
      "source": [
        "# Squeeze - 차원이 1인 경우에 해당 차원 제거\n",
        "\n",
        "ft = torch.FloatTensor([[0],[1],[2]])\n",
        "print(ft)\n",
        "print(ft.shape)"
      ],
      "metadata": {
        "id": "0pitZtSxi3kD",
        "outputId": "96ec85e7-09ae-4062-fda1-2ee31d0d2ce0",
        "colab": {
          "base_uri": "https://localhost:8080/"
        }
      },
      "execution_count": 7,
      "outputs": [
        {
          "output_type": "stream",
          "name": "stdout",
          "text": [
            "tensor([[0.],\n",
            "        [1.],\n",
            "        [2.]])\n",
            "torch.Size([3, 1])\n"
          ]
        }
      ]
    },
    {
      "cell_type": "code",
      "source": [
        "print(ft.squeeze())\n",
        "print(ft.squeeze().shape)"
      ],
      "metadata": {
        "id": "IEDvyc5GjKg5",
        "outputId": "b9e76065-d0b6-44e7-ad4e-8372c41a9d0f",
        "colab": {
          "base_uri": "https://localhost:8080/"
        }
      },
      "execution_count": 8,
      "outputs": [
        {
          "output_type": "stream",
          "name": "stdout",
          "text": [
            "tensor([0., 1., 2.])\n",
            "torch.Size([3])\n"
          ]
        }
      ]
    },
    {
      "cell_type": "code",
      "source": [
        "# Unsqueeze - 특정 위치에 1인 차원 추가\n",
        "ft = torch.Tensor([0,1,2])\n",
        "print(ft.shape)"
      ],
      "metadata": {
        "id": "KBFGcdhwjbqK",
        "outputId": "0e0d07ef-63b9-4608-c6d6-7a00c0d21898",
        "colab": {
          "base_uri": "https://localhost:8080/"
        }
      },
      "execution_count": 9,
      "outputs": [
        {
          "output_type": "stream",
          "name": "stdout",
          "text": [
            "torch.Size([3])\n"
          ]
        }
      ]
    },
    {
      "cell_type": "code",
      "source": [
        "print(ft.unsqueeze(0)) # 인덱스가 0부터 시작하므로 0은 첫번째 차원을 의미함\n",
        "print(ft.unsqueeze(0).shape)"
      ],
      "metadata": {
        "id": "eY1xUGpJjlw-",
        "outputId": "e9248e2c-6b0a-4f77-ea34-04c998af2467",
        "colab": {
          "base_uri": "https://localhost:8080/"
        }
      },
      "execution_count": 10,
      "outputs": [
        {
          "output_type": "stream",
          "name": "stdout",
          "text": [
            "tensor([[0., 1., 2.]])\n",
            "torch.Size([1, 3])\n"
          ]
        }
      ]
    },
    {
      "cell_type": "code",
      "source": [
        "# 텐서 연결\n",
        "# 두 텐서를 연결해서 입력으로 사용하는 것은 두 가지 정보를 모두 사용한다는 뜻\n",
        "x = torch.FloatTensor([[1,2],[3,4]])\n",
        "y = torch.FloatTensor([[5,6],[7,8]])\n",
        "\n",
        "print(torch.cat([x,y],dim=0))"
      ],
      "metadata": {
        "id": "rjLs5gj_kYkZ",
        "outputId": "46caab22-96f6-4d1e-da83-19c7f40e7c4a",
        "colab": {
          "base_uri": "https://localhost:8080/"
        }
      },
      "execution_count": 11,
      "outputs": [
        {
          "output_type": "stream",
          "name": "stdout",
          "text": [
            "tensor([[1., 2.],\n",
            "        [3., 4.],\n",
            "        [5., 6.],\n",
            "        [7., 8.]])\n"
          ]
        }
      ]
    },
    {
      "cell_type": "code",
      "source": [
        "# dim을 0으로 하면 (2x2) 텐서가 (4x2)가 된다.\n",
        "# dim을 1로 하면 (2x2) 텐서가 두 개 함쳐져서 (2x4)가 된다.\n",
        "print(torch.cat([x,y],dim=1))"
      ],
      "metadata": {
        "id": "g94vlsZ2k9AF",
        "outputId": "6667883a-d604-45e1-a399-28da50ee5e19",
        "colab": {
          "base_uri": "https://localhost:8080/"
        }
      },
      "execution_count": 12,
      "outputs": [
        {
          "output_type": "stream",
          "name": "stdout",
          "text": [
            "tensor([[1., 2., 5., 6.],\n",
            "        [3., 4., 7., 8.]])\n"
          ]
        }
      ]
    },
    {
      "cell_type": "code",
      "source": [
        "# 스택킹 -> 벡터를 순차적으로 쌓기\n",
        "x = torch.FloatTensor([1,4])\n",
        "y = torch.FloatTensor([2,5])\n",
        "z = torch.FloatTensor([3,6])\n",
        "\n",
        "print(torch.stack([x,y,z]))"
      ],
      "metadata": {
        "id": "T0N0wn3MlNCo",
        "outputId": "c16ab470-f720-47db-cb38-f6c7d3d99311",
        "colab": {
          "base_uri": "https://localhost:8080/"
        }
      },
      "execution_count": 13,
      "outputs": [
        {
          "output_type": "stream",
          "name": "stdout",
          "text": [
            "tensor([[1., 4.],\n",
            "        [2., 5.],\n",
            "        [3., 6.]])\n"
          ]
        }
      ]
    },
    {
      "cell_type": "code",
      "source": [
        "# ones_like -> 동일한 크기지만 1로만 채워진 텐서 생성\n",
        "# zeros_like -> 동일한 크기지만 0으로만 채워진 텐서 생성\n",
        "x = torch.FloatTensor([[0, 1, 2], [2, 1, 0]])\n",
        "\n",
        "print(torch.ones_like(x))\n",
        "print(torch.zeros_like(x))"
      ],
      "metadata": {
        "id": "vkTBLCfSlmCj",
        "outputId": "c3bf97a7-aed2-40b5-c4fe-6ce687233422",
        "colab": {
          "base_uri": "https://localhost:8080/"
        }
      },
      "execution_count": 14,
      "outputs": [
        {
          "output_type": "stream",
          "name": "stdout",
          "text": [
            "tensor([[1., 1., 1.],\n",
            "        [1., 1., 1.]])\n",
            "tensor([[0., 0., 0.],\n",
            "        [0., 0., 0.]])\n"
          ]
        }
      ]
    },
    {
      "cell_type": "code",
      "source": [
        "# 덮어쓰기 연산 -> _ 사용\n",
        "\n",
        "x = torch.FloatTensor([[1, 2], [3, 4]])\n",
        "\n",
        "print(x.mul(2.)) # 곱하기 2를 수행한 결과를 출력\n",
        "print(x) \n",
        "\n",
        "print(x.mul_(2.))  # 곱하기 2를 수행한 결과를 변수 x에 값을 저장하면서 결과를 출력\n",
        "print(x) "
      ],
      "metadata": {
        "id": "PeXBMIbKmWjn",
        "outputId": "d3485ad0-543b-40a8-8fbe-f1d9f930999b",
        "colab": {
          "base_uri": "https://localhost:8080/"
        }
      },
      "execution_count": 15,
      "outputs": [
        {
          "output_type": "stream",
          "name": "stdout",
          "text": [
            "tensor([[2., 4.],\n",
            "        [6., 8.]])\n",
            "tensor([[1., 2.],\n",
            "        [3., 4.]])\n",
            "tensor([[2., 4.],\n",
            "        [6., 8.]])\n",
            "tensor([[2., 4.],\n",
            "        [6., 8.]])\n"
          ]
        }
      ]
    },
    {
      "cell_type": "code",
      "source": [
        ""
      ],
      "metadata": {
        "id": "p3azVIksmjlq"
      },
      "execution_count": 15,
      "outputs": []
    }
  ]
}